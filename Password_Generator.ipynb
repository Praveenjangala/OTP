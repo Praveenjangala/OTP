{
  "nbformat": 4,
  "nbformat_minor": 0,
  "metadata": {
    "colab": {
      "provenance": []
    },
    "kernelspec": {
      "name": "python3",
      "display_name": "Python 3"
    },
    "language_info": {
      "name": "python"
    }
  },
  "cells": [
    {
      "cell_type": "code",
      "execution_count": null,
      "metadata": {
        "id": "lNm9GFhomI-L"
      },
      "outputs": [],
      "source": [
        "import random\n",
        "import string\n",
        "\n",
        "def generate_password(length=12, include_lowercase=True, include_uppercase=True, include_digits=True, include_symbols=True):\n",
        "  \"\"\"Generates a random password.\n",
        "\n",
        "  Args:\n",
        "    length: The desired length of the password.\n",
        "    include_lowercase: Whether to include lowercase letters.\n",
        "    include_uppercase: Whether to include uppercase letters.\n",
        "    include_digits: Whether to include digits.\n",
        "    include_symbols: Whether to include symbols.\n",
        "\n",
        "  Returns:\n",
        "    A randomly generated password.\n",
        "  \"\"\"\n",
        "\n",
        "  characters = \"\"\n",
        "  if include_lowercase:\n",
        "    characters += string.ascii_lowercase\n",
        "  if include_uppercase:\n",
        "    characters += string.ascii_uppercase\n",
        "  if include_digits:\n",
        "    characters += string.digits\n",
        "  if include_symbols:\n",
        "    characters += string.punctuation\n",
        "\n",
        "  if not characters:\n",
        "    raise ValueError(\"At least one character type must be included.\")\n",
        "\n",
        "  password = ''.join(random.choice(characters) for _ in range(length))\n",
        "  return password\n",
        "\n",
        "# Generate a password with default settings (length=12, all character types included)\n",
        "password = generate_password()\n",
        "print(password)\n",
        "\n",
        "# Generate a password with custom settings\n",
        "password = generate_password(length=16, include_symbols=True)\n",
        "print(password)"
      ]
    }
  ]
}